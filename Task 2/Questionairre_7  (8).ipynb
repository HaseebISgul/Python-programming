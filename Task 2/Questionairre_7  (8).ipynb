{
  "nbformat": 4,
  "nbformat_minor": 0,
  "metadata": {
    "colab": {
      "provenance": []
    },
    "kernelspec": {
      "name": "python3",
      "display_name": "Python 3"
    },
    "language_info": {
      "name": "python"
    }
  },
  "cells": [
    {
      "cell_type": "markdown",
      "source": [
        "QUESTION 1"
      ],
      "metadata": {
        "id": "YCjIT-Az0xTC"
      }
    },
    {
      "cell_type": "code",
      "source": [
        "# Store student names and grades in a dictionary. Allow lookup by name.\n",
        "gradebook = {\"Ali\": 90, \"Danish\": 85}\n",
        "\n",
        "name = input(\"Enter name: \")\n",
        "print(\"Grade:\", gradebook.get(name, \"Not found\"))"
      ],
      "metadata": {
        "colab": {
          "base_uri": "https://localhost:8080/"
        },
        "id": "DcLZ8WNItfUj",
        "outputId": "e76c9580-2c39-4b04-f3fb-78b81932d078"
      },
      "execution_count": 1,
      "outputs": [
        {
          "output_type": "stream",
          "name": "stdout",
          "text": [
            "Enter name: Ali\n",
            "Grade: 90\n"
          ]
        }
      ]
    },
    {
      "cell_type": "markdown",
      "source": [
        "QUESTION 2"
      ],
      "metadata": {
        "id": "1QT-ULqqZuqz"
      }
    },
    {
      "cell_type": "code",
      "source": [
        "#  Count occurrences of each word in a paragraph using a dictionary.\n",
        "text = input(\"Enter text: \")\n",
        "words = text.split()\n",
        "count = {}\n",
        "\n",
        "for w in words:\n",
        "    count[w] = count.get(w, 0) + 1\n",
        "\n",
        "print(count)"
      ],
      "metadata": {
        "colab": {
          "base_uri": "https://localhost:8080/"
        },
        "id": "IycjxIcmt9RK",
        "outputId": "9e127f5b-f793-44e3-a91b-396a5aa6759d"
      },
      "execution_count": 5,
      "outputs": [
        {
          "output_type": "stream",
          "name": "stdout",
          "text": [
            "Enter text: My father is teacher and My mother is also teacher\n",
            "{'My': 2, 'father': 1, 'is': 2, 'teacher': 2, 'and': 1, 'mother': 1, 'also': 1}\n"
          ]
        }
      ]
    },
    {
      "cell_type": "markdown",
      "source": [
        "QUESTION 3"
      ],
      "metadata": {
        "id": "kahGyR9rvDd-"
      }
    },
    {
      "cell_type": "code",
      "source": [
        "#  Input a string and count character frequency using a dictionary.\n",
        "text = input(\"Enter text: \")\n",
        "freq = {}\n",
        "\n",
        "for char in text:\n",
        "    freq[char] = freq.get(char, 0) + 1\n",
        "\n",
        "print(freq)"
      ],
      "metadata": {
        "colab": {
          "base_uri": "https://localhost:8080/"
        },
        "id": "HE3uzr6vvE38",
        "outputId": "cc6435f2-5eab-4a8b-ef48-b71a779e9bbe"
      },
      "execution_count": 6,
      "outputs": [
        {
          "output_type": "stream",
          "name": "stdout",
          "text": [
            "Enter text: haseeb gull\n",
            "{'h': 1, 'a': 1, 's': 1, 'e': 2, 'b': 1, ' ': 1, 'g': 1, 'u': 1, 'l': 2}\n"
          ]
        }
      ]
    },
    {
      "cell_type": "markdown",
      "source": [
        "QUESTION 4"
      ],
      "metadata": {
        "id": "9BdgoxzXvf5M"
      }
    },
    {
      "cell_type": "code",
      "source": [
        "#  From a dictionary of product:price, find the most expensive product.\n",
        "products = {\"Phone\": 800, \"Laptop\": 1200, \"Tablet\": 600}\n",
        "max_product = max(products, key=products.get)\n",
        "print(\"Most expensive:\", max_product, \"Price:\", products[max_product])"
      ],
      "metadata": {
        "colab": {
          "base_uri": "https://localhost:8080/"
        },
        "id": "x-TmJsEOvhif",
        "outputId": "3142b0cc-b1b7-42fd-aac3-976d1183a52b"
      },
      "execution_count": 7,
      "outputs": [
        {
          "output_type": "stream",
          "name": "stdout",
          "text": [
            "Most expensive: Laptop Price: 1200\n"
          ]
        }
      ]
    },
    {
      "cell_type": "markdown",
      "source": [
        "QUESTION 5"
      ],
      "metadata": {
        "id": "2H_I9lJAv6p9"
      }
    },
    {
      "cell_type": "code",
      "source": [
        "a = {\"apple\": 3, \"banana\": 2}\n",
        "b = {\"banana\": 4, \"orange\": 1}\n",
        "\n",
        "merged = a.copy()\n",
        "for k, v in b.items():\n",
        "    merged[k] = merged.get(k, 0) + v\n",
        "\n",
        "print(merged)"
      ],
      "metadata": {
        "colab": {
          "base_uri": "https://localhost:8080/"
        },
        "id": "UgGuM_M7v7zh",
        "outputId": "43184e0a-da5b-4af4-9d53-839ac457655d"
      },
      "execution_count": 8,
      "outputs": [
        {
          "output_type": "stream",
          "name": "stdout",
          "text": [
            "{'apple': 3, 'banana': 6, 'orange': 1}\n"
          ]
        }
      ]
    },
    {
      "cell_type": "markdown",
      "source": [
        "                                        THE  END"
      ],
      "metadata": {
        "id": "x3LnWq1QwRwW"
      }
    }
  ]
}