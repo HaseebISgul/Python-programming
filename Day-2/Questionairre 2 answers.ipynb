{
  "nbformat": 4,
  "nbformat_minor": 0,
  "metadata": {
    "colab": {
      "provenance": []
    },
    "kernelspec": {
      "name": "python3",
      "display_name": "Python 3"
    },
    "language_info": {
      "name": "python"
    }
  },
  "cells": [
    {
      "cell_type": "markdown",
      "source": [
        "QUESTION **1**"
      ],
      "metadata": {
        "id": "FvwWHlXwJKCP"
      }
    },
    {
      "cell_type": "code",
      "source": [
        "print('class')\n",
        "print('continue')\n",
        "print('as')\n",
        "print('and')\n",
        "print('none')\n",
        "print('false')\n",
        "print('true')\n",
        "print('for')\n",
        "print('if')\n",
        "print('or')"
      ],
      "metadata": {
        "colab": {
          "base_uri": "https://localhost:8080/"
        },
        "id": "uyhM_nFOJ7Ky",
        "outputId": "8387ec26-8cd9-48ed-e196-cb2a4320fe06"
      },
      "execution_count": null,
      "outputs": [
        {
          "output_type": "stream",
          "name": "stdout",
          "text": [
            "class\n",
            "continue\n",
            "as\n",
            "and\n",
            "none\n",
            "false\n",
            "true\n",
            "for\n",
            "if\n",
            "or\n"
          ]
        }
      ]
    },
    {
      "cell_type": "markdown",
      "source": [
        "QUESTION **2**"
      ],
      "metadata": {
        "id": "hYiMo-WdLD0K"
      }
    },
    {
      "cell_type": "code",
      "source": [
        "print('key words used for conditional statements in python:')\n",
        "print('if')\n",
        "print('elif')\n",
        "print('else')"
      ],
      "metadata": {
        "colab": {
          "base_uri": "https://localhost:8080/"
        },
        "id": "iyLLmCzDLGWp",
        "outputId": "10f29e74-1cd6-437e-8253-3355c09bc193"
      },
      "execution_count": null,
      "outputs": [
        {
          "output_type": "stream",
          "name": "stdout",
          "text": [
            "key words used for conditional statements in python:\n",
            "if\n",
            "elif\n",
            "else\n"
          ]
        }
      ]
    },
    {
      "cell_type": "markdown",
      "source": [
        "QUESTION **3**"
      ],
      "metadata": {
        "id": "EQyCsly-MCfV"
      }
    },
    {
      "cell_type": "code",
      "source": [
        "print('key words used in loops in python')\n",
        "print('for')\n",
        "print('while')\n",
        "print('break')"
      ],
      "metadata": {
        "colab": {
          "base_uri": "https://localhost:8080/"
        },
        "id": "xZ-6gVYSME4K",
        "outputId": "8a19a1cb-2bce-4daf-a7f6-d81fdbfd9dc1"
      },
      "execution_count": null,
      "outputs": [
        {
          "output_type": "stream",
          "name": "stdout",
          "text": [
            "key words used in loops in python\n",
            "for\n",
            "while\n",
            "break\n"
          ]
        }
      ]
    },
    {
      "cell_type": "markdown",
      "source": [
        "QUESTION **4**"
      ],
      "metadata": {
        "id": "nkQJREePNUh7"
      }
    },
    {
      "cell_type": "code",
      "source": [
        "print('boolean key words in python:')\n",
        "print(\"1.True\")\n",
        "print(\"2.false\")\n",
        "print(\"3.and\")\n",
        "print(\"4.or\")\n",
        "print(\"5.is\")"
      ],
      "metadata": {
        "id": "lVO_RbniNZSB",
        "colab": {
          "base_uri": "https://localhost:8080/"
        },
        "outputId": "c3cb964b-cec1-4b0e-9757-dcdd7122c957"
      },
      "execution_count": null,
      "outputs": [
        {
          "output_type": "stream",
          "name": "stdout",
          "text": [
            "boolean key words in python:\n",
            "1.True\n",
            "2.false\n",
            "3.and\n",
            "4.or\n",
            "5.is\n"
          ]
        }
      ]
    },
    {
      "cell_type": "markdown",
      "source": [
        "QUESTION **5**"
      ],
      "metadata": {
        "id": "VgJ6NddZQxtm"
      }
    },
    {
      "cell_type": "code",
      "source": [
        "keywords = [\"apple\" , \"cat\" , \"banana\" , \"monkey\" , \"zebra\"]"
      ],
      "metadata": {
        "id": "bjMmXijuQ0rd"
      },
      "execution_count": null,
      "outputs": []
    },
    {
      "cell_type": "markdown",
      "source": [
        "QUESTION **6**"
      ],
      "metadata": {
        "id": "e_wIBVtmSc-N"
      }
    },
    {
      "cell_type": "code",
      "source": [
        "# print constant values key words\n",
        "print('True')\n",
        "print('False')\n",
        "print('None')"
      ],
      "metadata": {
        "colab": {
          "base_uri": "https://localhost:8080/"
        },
        "id": "fETpBFfeSe2R",
        "outputId": "af28a4db-7b91-4959-a94a-e7164027fd6e"
      },
      "execution_count": null,
      "outputs": [
        {
          "output_type": "stream",
          "name": "stdout",
          "text": [
            "True\n",
            "False\n",
            "None\n"
          ]
        }
      ]
    },
    {
      "cell_type": "markdown",
      "source": [
        "QUESTION **7**"
      ],
      "metadata": {
        "id": "K8wK9yjmT3Ye"
      }
    },
    {
      "cell_type": "code",
      "source": [
        "# Printing the key words used for flow control\n",
        "print(\"break\" , (\"continue\") , (\"pass\"), sep=',')"
      ],
      "metadata": {
        "colab": {
          "base_uri": "https://localhost:8080/"
        },
        "id": "xC2BTCg8T5u5",
        "outputId": "7ad04f3b-4e58-4181-a36e-7d6e2b222dfd"
      },
      "execution_count": null,
      "outputs": [
        {
          "output_type": "stream",
          "name": "stdout",
          "text": [
            "break,continue,pass\n"
          ]
        }
      ]
    },
    {
      "cell_type": "markdown",
      "source": [
        "QUESTION **8**"
      ],
      "metadata": {
        "id": "hD4XpnP2bAZ0"
      }
    },
    {
      "cell_type": "code",
      "source": [
        "print(\"The keyword 'if' is used to check conditions.\")"
      ],
      "metadata": {
        "id": "QLNeBrmQbDLf",
        "colab": {
          "base_uri": "https://localhost:8080/"
        },
        "outputId": "efd2e715-e9b0-4b18-a51d-65ab08c7644e"
      },
      "execution_count": null,
      "outputs": [
        {
          "output_type": "stream",
          "name": "stdout",
          "text": [
            "The keyword 'if' is used to check conditions.\n"
          ]
        }
      ]
    },
    {
      "cell_type": "markdown",
      "source": [
        "QUESTION **9**"
      ],
      "metadata": {
        "id": "vxB6xFAKrAnj"
      }
    },
    {
      "cell_type": "code",
      "source": [
        "print(\"Keyword     | Use\")\n",
        "print()"
      ],
      "metadata": {
        "id": "46ZZSiSprGw6"
      },
      "execution_count": null,
      "outputs": []
    },
    {
      "cell_type": "markdown",
      "source": [
        "QUESTION **10**"
      ],
      "metadata": {
        "id": "VOCfxJb1zpJ0"
      }
    },
    {
      "cell_type": "code",
      "source": [
        "print('ELSE')\n",
        "print('WHILE')\n",
        "print('IF')\n",
        "print('FOR')\n",
        "print('CONTINNUE')"
      ],
      "metadata": {
        "colab": {
          "base_uri": "https://localhost:8080/"
        },
        "id": "DnExJF-JzrHg",
        "outputId": "96eff03a-af7b-4494-f2d3-92da0e927368"
      },
      "execution_count": null,
      "outputs": [
        {
          "output_type": "stream",
          "name": "stdout",
          "text": [
            "ELSE\n",
            "WHILE\n",
            "IF\n",
            "FOR\n",
            "CONTINNUE\n"
          ]
        }
      ]
    },
    {
      "cell_type": "markdown",
      "source": [
        "QUESTION **11**"
      ],
      "metadata": {
        "id": "7B9pPoFJ0oMB"
      }
    },
    {
      "cell_type": "code",
      "source": [
        "keywords = [\"if\", \"else\", \"elif\", \"while\", \"for\", \"break\", \"continue\", \"pass\", \"def\", \"return\"]\n",
        "print(keywords)"
      ],
      "metadata": {
        "colab": {
          "base_uri": "https://localhost:8080/"
        },
        "id": "R3YMdw1S0qHs",
        "outputId": "2f1d6b40-3ecc-47fb-947e-c6f35d1cd95f"
      },
      "execution_count": null,
      "outputs": [
        {
          "output_type": "stream",
          "name": "stdout",
          "text": [
            "['if', 'else', 'elif', 'while', 'for', 'break', 'continue', 'pass', 'def', 'return']\n"
          ]
        }
      ]
    },
    {
      "cell_type": "markdown",
      "source": [
        "QUESTION **12**"
      ],
      "metadata": {
        "id": "JtQ_5FSw0zRT"
      }
    },
    {
      "cell_type": "code",
      "source": [
        "print(\"if\")\n",
        "print(\"while\")\n",
        "print(\"for\")\n",
        "print(\"class\")\n",
        "print(\"def\")"
      ],
      "metadata": {
        "colab": {
          "base_uri": "https://localhost:8080/"
        },
        "id": "7aM3wjgo01Rm",
        "outputId": "c4effeb9-36e6-458a-d461-c988c47079aa"
      },
      "execution_count": null,
      "outputs": [
        {
          "output_type": "stream",
          "name": "stdout",
          "text": [
            "if\n",
            "while\n",
            "for\n",
            "class\n",
            "def\n"
          ]
        }
      ]
    },
    {
      "cell_type": "markdown",
      "source": [
        "QUESTION **13**"
      ],
      "metadata": {
        "id": "eFn9z-2h1Dq4"
      }
    },
    {
      "cell_type": "code",
      "source": [
        "print(\"Python uses def, return, and pass to define and manage functions.\")"
      ],
      "metadata": {
        "colab": {
          "base_uri": "https://localhost:8080/"
        },
        "id": "oNKwHjrL1F1N",
        "outputId": "27c1cc30-6ec8-4830-86e7-49c05bcd96b6"
      },
      "execution_count": null,
      "outputs": [
        {
          "output_type": "stream",
          "name": "stdout",
          "text": [
            "Python uses def, return, and pass to define and manage functions.\n"
          ]
        }
      ]
    },
    {
      "cell_type": "markdown",
      "source": [
        "QUESTION **14**"
      ],
      "metadata": {
        "id": "5spGksoC1ohB"
      }
    },
    {
      "cell_type": "code",
      "source": [
        "conditional = [\"if\", \"elif\", \"else\"]\n",
        "looping = [\"for\", \"while\", \"break\", \"continue\", \"pass\"]\n",
        "boolean = [\"True\", \"False\", \"None\"]\n",
        "# Print these key words\n",
        "print(\"Conditional Statements:\", conditional)\n",
        "print(\"Looping Statements:\", looping)\n",
        "print(\"Boolean Values:\", boolean)"
      ],
      "metadata": {
        "colab": {
          "base_uri": "https://localhost:8080/"
        },
        "id": "5SDCcLA91qiC",
        "outputId": "8a348508-d3ca-4413-cc4d-98239d3128ee"
      },
      "execution_count": null,
      "outputs": [
        {
          "output_type": "stream",
          "name": "stdout",
          "text": [
            "Conditional Statements: ['if', 'elif', 'else']\n",
            "Looping Statements: ['for', 'while', 'break', 'continue', 'pass']\n",
            "Boolean Values: ['True', 'False', 'None']\n"
          ]
        }
      ]
    },
    {
      "cell_type": "markdown",
      "source": [
        "QUESTION **15**"
      ],
      "metadata": {
        "id": "Z5l3b7ur2WLR"
      }
    },
    {
      "cell_type": "code",
      "source": [
        "# Questio is that, why we can't use keywords as variable names.\n",
        "# ANSWER :\n",
        "#       we can't use keywords as variable names because they have special\n",
        "#       meanings"
      ],
      "metadata": {
        "id": "e5o-XRRl2Yuw"
      },
      "execution_count": null,
      "outputs": []
    },
    {
      "cell_type": "markdown",
      "source": [
        "                                        THE END"
      ],
      "metadata": {
        "id": "C3JBFEZx6EUr"
      }
    }
  ]
}