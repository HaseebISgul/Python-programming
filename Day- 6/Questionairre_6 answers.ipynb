{
  "nbformat": 4,
  "nbformat_minor": 0,
  "metadata": {
    "colab": {
      "provenance": []
    },
    "kernelspec": {
      "name": "python3",
      "display_name": "Python 3"
    },
    "language_info": {
      "name": "python"
    }
  },
  "cells": [
    {
      "cell_type": "markdown",
      "source": [
        "**QUESTION 1**"
      ],
      "metadata": {
        "id": "RSY1v30Wu3X8"
      }
    },
    {
      "cell_type": "code",
      "source": [
        "# You have ₹100. You buy 3 pens for ₹15 each. How much money is left?\n",
        "money = 100                 # Total amount i have\n",
        "num_pens = 3                # There are three pens\n",
        "pen_prize = 15              # Their prize is 15\n",
        "total_cost = pen_prize * num_pens\n",
        "money_left = money - total_cost\n",
        "print(\"money_left:₹\",money_left)\n"
      ],
      "metadata": {
        "colab": {
          "base_uri": "https://localhost:8080/"
        },
        "id": "Gqg-O3Dmu6eH",
        "outputId": "08735c3c-055a-4d51-c06d-be3bf5c0b149"
      },
      "execution_count": null,
      "outputs": [
        {
          "output_type": "stream",
          "name": "stdout",
          "text": [
            "money_left:₹ 55\n"
          ]
        }
      ]
    },
    {
      "cell_type": "markdown",
      "source": [
        "**QUESTION 2**"
      ],
      "metadata": {
        "id": "e4UaLny3yvRm"
      }
    },
    {
      "cell_type": "code",
      "source": [
        "# A car travels 80 km in 2 hours. What is the speed (km/h)?\n",
        "# Given values:\n",
        "distance = 80               # in km\n",
        "time = 2                    # in hour\n",
        "# find the speed in km/h\n",
        "speed = distance / time\n",
        "print(\"speed:\",speed,\"km/h\")"
      ],
      "metadata": {
        "colab": {
          "base_uri": "https://localhost:8080/"
        },
        "id": "QkPbHCaayzjT",
        "outputId": "6700c108-f393-42f7-e25e-a79e392191da"
      },
      "execution_count": null,
      "outputs": [
        {
          "output_type": "stream",
          "name": "stdout",
          "text": [
            "speed: 40.0 km/h\n"
          ]
        }
      ]
    },
    {
      "cell_type": "markdown",
      "source": [
        "QUESTION 3"
      ],
      "metadata": {
        "id": "kTGp1V2K31W_"
      }
    },
    {
      "cell_type": "code",
      "source": [
        "hour = 5\n",
        "minutes = hour * 60\n",
        "print(minutes,\"minutes\")"
      ],
      "metadata": {
        "colab": {
          "base_uri": "https://localhost:8080/"
        },
        "id": "qVDXW2f1mTPI",
        "outputId": "e2951b3c-6cce-4d28-ba67-e702bdaa7fc6"
      },
      "execution_count": null,
      "outputs": [
        {
          "output_type": "stream",
          "name": "stdout",
          "text": [
            "300 minutes\n"
          ]
        }
      ]
    },
    {
      "cell_type": "markdown",
      "source": [
        "QUESTION 4"
      ],
      "metadata": {
        "id": "294kMxioYxsA"
      }
    },
    {
      "cell_type": "code",
      "source": [
        "# You scored 80, 95, and 78 in three subjects. What is your average score?\n",
        "scores = [80, 95, 78]\n",
        "average_score = sum(scores) / len(scores)\n",
        "print(\"Average score:\", average_score)"
      ],
      "metadata": {
        "id": "8W2uf6W_Y3m9",
        "colab": {
          "base_uri": "https://localhost:8080/"
        },
        "outputId": "d0e7a230-03c7-4c1a-9910-efc64bf633d4"
      },
      "execution_count": null,
      "outputs": [
        {
          "output_type": "stream",
          "name": "stdout",
          "text": [
            "Average score: 84.33333333333333\n"
          ]
        }
      ]
    },
    {
      "cell_type": "markdown",
      "source": [
        "QUESTION 5"
      ],
      "metadata": {
        "id": "0poExzrS5LS_"
      }
    },
    {
      "cell_type": "code",
      "source": [
        "# A rectangle has length 12 cm and width 5 cm. Find its area.\n",
        "length = 12  # cm\n",
        "width = 5    # cm\n",
        "area = length * width\n",
        "print(\"Area of rectangle:\", area, \"cm²\")\n"
      ],
      "metadata": {
        "colab": {
          "base_uri": "https://localhost:8080/"
        },
        "id": "1hNDxCSx5Muq",
        "outputId": "8a10cc48-9766-448f-f662-aef516c29d19"
      },
      "execution_count": null,
      "outputs": [
        {
          "output_type": "stream",
          "name": "stdout",
          "text": [
            "Area of rectangle: 60 cm²\n"
          ]
        }
      ]
    },
    {
      "cell_type": "markdown",
      "source": [
        "QUESTION 7"
      ],
      "metadata": {
        "id": "TP79Os4F5YyO"
      }
    },
    {
      "cell_type": "code",
      "source": [
        "# Cocolates division\n",
        "chocolates = 25\n",
        "friends = 4\n",
        "each_gets = chocolates // friends\n",
        "left_over = chocolates % friends\n",
        "print(\"Each friend gets:\", each_gets)\n",
        "print(\"Chocolates left over:\", left_over)\n"
      ],
      "metadata": {
        "colab": {
          "base_uri": "https://localhost:8080/"
        },
        "id": "p6YDk2Tq5aID",
        "outputId": "2d915649-33c4-4e30-b294-a28bfd151814"
      },
      "execution_count": null,
      "outputs": [
        {
          "output_type": "stream",
          "name": "stdout",
          "text": [
            "Each friend gets: 6\n",
            "Chocolates left over: 1\n"
          ]
        }
      ]
    },
    {
      "cell_type": "markdown",
      "source": [
        "QUESTION 8"
      ],
      "metadata": {
        "id": "ijNVInP75rfQ"
      }
    },
    {
      "cell_type": "code",
      "source": [
        "# Convert movie time to minutes\n",
        "hours = 2\n",
        "extra_minutes = 35\n",
        "total_minutes = (hours * 60) + extra_minutes\n",
        "print(\"Total movie time in minutes:\", total_minutes)\n"
      ],
      "metadata": {
        "colab": {
          "base_uri": "https://localhost:8080/"
        },
        "id": "comdr0YH5tIw",
        "outputId": "8784c8d5-4a0d-4fe6-a79c-d9e1a3750c2e"
      },
      "execution_count": null,
      "outputs": [
        {
          "output_type": "stream",
          "name": "stdout",
          "text": [
            "Total movie time in minutes: 155\n"
          ]
        }
      ]
    },
    {
      "cell_type": "markdown",
      "source": [
        "QUESTION 9"
      ],
      "metadata": {
        "id": "gNMRptlF6AwZ"
      }
    },
    {
      "cell_type": "code",
      "source": [
        "# Simple Interest calculation\n",
        "notebook_price = 45\n",
        "notebooks = 7\n",
        "total_cost = notebook_price * notebooks\n",
        "print(\"Total cost of 7 notebooks: ₹\", total_cost)\n"
      ],
      "metadata": {
        "colab": {
          "base_uri": "https://localhost:8080/"
        },
        "id": "6OlHQGNT6CSr",
        "outputId": "4d0ea953-cbe3-4037-9c86-aa0676ef1387"
      },
      "execution_count": null,
      "outputs": [
        {
          "output_type": "stream",
          "name": "stdout",
          "text": [
            "Total cost of 7 notebooks: ₹ 315\n"
          ]
        }
      ]
    },
    {
      "cell_type": "markdown",
      "source": [
        "QUESTION 10"
      ],
      "metadata": {
        "id": "Nz2Fzrpp6Pw5"
      }
    },
    {
      "cell_type": "code",
      "source": [
        "# Benches for 47 studentS\n",
        "students = 47\n",
        "bench_capacity = 4\n",
        "full_benches = students // bench_capacity\n",
        "students_last_bench = students % bench_capacity\n",
        "print(\"Full benches needed:\", full_benches)\n",
        "print(\"Students on last bench:\", students_last_bench)"
      ],
      "metadata": {
        "colab": {
          "base_uri": "https://localhost:8080/"
        },
        "id": "ClIq9a1S6RHx",
        "outputId": "051c4138-1d54-4a67-f24e-87deaa127e29"
      },
      "execution_count": null,
      "outputs": [
        {
          "output_type": "stream",
          "name": "stdout",
          "text": [
            "Full benches needed: 11\n",
            "Students on last bench: 3\n"
          ]
        }
      ]
    }
  ]
}