{
  "nbformat": 4,
  "nbformat_minor": 0,
  "metadata": {
    "colab": {
      "provenance": []
    },
    "kernelspec": {
      "name": "python3",
      "display_name": "Python 3"
    },
    "language_info": {
      "name": "python"
    }
  },
  "cells": [
    {
      "cell_type": "markdown",
      "source": [
        "QUESTION **1**"
      ],
      "metadata": {
        "id": "IRYfK0vN9TmQ"
      }
    },
    {
      "cell_type": "code",
      "source": [
        "# take input from users\n",
        "fnum=input('enter your first number')\n",
        "snum=input('enter your second number')\n",
        "print('fnum,snum')\n",
        "# add numbers\n",
        "result = int(fnum)+ int(snum)\n",
        "print(result)"
      ],
      "metadata": {
        "colab": {
          "base_uri": "https://localhost:8080/"
        },
        "id": "z_cH7VxJ9VdW",
        "outputId": "97457221-871a-4e32-e6fc-c3caad78e348"
      },
      "execution_count": null,
      "outputs": [
        {
          "output_type": "stream",
          "name": "stdout",
          "text": [
            "enter your first number20\n",
            "enter your second number10\n",
            "fnum,snum\n",
            "30\n"
          ]
        }
      ]
    },
    {
      "cell_type": "markdown",
      "source": [
        "QUESTION **2**"
      ],
      "metadata": {
        "id": "5cH4pZjzPQEZ"
      }
    },
    {
      "cell_type": "code",
      "source": [
        "# Ask the user for their favorite color and print it back.\n",
        "colour=input(\"what is your favourite colour:\")\n",
        "print(colour)"
      ],
      "metadata": {
        "colab": {
          "base_uri": "https://localhost:8080/"
        },
        "id": "ucbfGSVMPSMg",
        "outputId": "e8f667e8-a93f-4af8-ffd5-fa3324b3089c"
      },
      "execution_count": null,
      "outputs": [
        {
          "output_type": "stream",
          "name": "stdout",
          "text": [
            "what is your favourite colour:silver\n",
            "silver\n"
          ]
        }
      ]
    },
    {
      "cell_type": "markdown",
      "source": [
        "QUESTION **3**"
      ],
      "metadata": {
        "id": "NhSFz9kXP2yK"
      }
    },
    {
      "cell_type": "code",
      "source": [
        "#Take the user’s age and print:\n",
        "age=input(\"what is ypu age:\")\n",
        "print(age)\n",
        "print(f\"You are {age} years old.\")"
      ],
      "metadata": {
        "colab": {
          "base_uri": "https://localhost:8080/"
        },
        "id": "V2nJabThQCaA",
        "outputId": "7179717c-e9b0-4912-c320-c0a40a00cbce"
      },
      "execution_count": null,
      "outputs": [
        {
          "output_type": "stream",
          "name": "stdout",
          "text": [
            "what is ypu age:17\n",
            "17\n",
            "You are 17 years old.\n"
          ]
        }
      ]
    },
    {
      "cell_type": "markdown",
      "source": [
        "QUESTION **4**"
      ],
      "metadata": {
        "id": "fN4XVYS2Te1Y"
      }
    },
    {
      "cell_type": "code",
      "source": [
        "# Ask the user for their city and country,\n",
        "city=input('Enter your city:')\n",
        "country=input('Enter your country:')\n",
        "print(f\"your live in |{city}|, |{country}|\")"
      ],
      "metadata": {
        "colab": {
          "base_uri": "https://localhost:8080/"
        },
        "id": "Xt2M4YaKTg6W",
        "outputId": "fc069584-5ec9-416f-e6b0-c9c01236272d"
      },
      "execution_count": null,
      "outputs": [
        {
          "output_type": "stream",
          "name": "stdout",
          "text": [
            "Enter your city:nowshera\n",
            "Enter your country:KPK\n",
            "your live in |nowshera|, |KPK|\n"
          ]
        }
      ]
    },
    {
      "cell_type": "markdown",
      "source": [
        "QUESTION **5**"
      ],
      "metadata": {
        "id": "2kQjrwtJVUjl"
      }
    },
    {
      "cell_type": "code",
      "source": [
        "# Take two numbers as input and print their difference.\n",
        "num1=float(input(\"Enter your first number:\"))\n",
        "num2=float(input(\"Enter your second number\"))\n",
        "# calculate the difference\n",
        "print(f\"difference between {num1} and {num2} is {num1-num2}\")\n",
        "\n"
      ],
      "metadata": {
        "colab": {
          "base_uri": "https://localhost:8080/"
        },
        "id": "Bhf7zYSwVXGJ",
        "outputId": "9688878a-bb41-458c-a002-58d3a7ee95f0"
      },
      "execution_count": null,
      "outputs": [
        {
          "output_type": "stream",
          "name": "stdout",
          "text": [
            "Enter your first number:30\n",
            "Enter your second number20\n",
            "difference between 30.0 and 20.0 is 10.0\n"
          ]
        }
      ]
    },
    {
      "cell_type": "markdown",
      "source": [
        "QUESTION **6**"
      ],
      "metadata": {
        "id": "9UxSh4HYEETs"
      }
    },
    {
      "cell_type": "code",
      "source": [
        "# Take a word from user\n",
        "word = input(\"Enter a word:\")\n",
        "print(word.upper())"
      ],
      "metadata": {
        "colab": {
          "base_uri": "https://localhost:8080/"
        },
        "id": "WoBBHthnEHUA",
        "outputId": "693bdd50-ae2b-4ba4-aef0-e678a78d0cb2"
      },
      "execution_count": null,
      "outputs": [
        {
          "output_type": "stream",
          "name": "stdout",
          "text": [
            "Enter a word:Pakistan\n",
            "PAKISTAN\n"
          ]
        }
      ]
    },
    {
      "cell_type": "markdown",
      "source": [
        "QUESTION **7**"
      ],
      "metadata": {
        "id": "82KthxGCGAzl"
      }
    },
    {
      "cell_type": "code",
      "source": [
        "# Take a sentence from the user and print how many characters it has.\n",
        "sentence = input(\"Enter a sentence \")\n",
        "print('how many characters it has', len(sentence))"
      ],
      "metadata": {
        "colab": {
          "base_uri": "https://localhost:8080/"
        },
        "id": "hnt840I8GDa6",
        "outputId": "37b1d336-c1b6-492b-9a9b-f6339a8afac5"
      },
      "execution_count": null,
      "outputs": [
        {
          "output_type": "stream",
          "name": "stdout",
          "text": [
            "Enter a sentence hkhj\n",
            "how many characters it has 4\n"
          ]
        }
      ]
    },
    {
      "cell_type": "markdown",
      "source": [
        "QUESTION **8**"
      ],
      "metadata": {
        "id": "CddeajfpIVph"
      }
    },
    {
      "cell_type": "code",
      "source": [
        "# Take your school name as input\n",
        "school_name=input('Enter your school name:')\n",
        "print(f\"i study at |school_name|\")"
      ],
      "metadata": {
        "colab": {
          "base_uri": "https://localhost:8080/"
        },
        "id": "LeQpXcOVIYY3",
        "outputId": "c392a12c-310b-43ab-bb63-a8debbe49b2d"
      },
      "execution_count": null,
      "outputs": [
        {
          "output_type": "stream",
          "name": "stdout",
          "text": [
            "Enter your school name:S.M.H.S\n",
            "i study at |school_name|\n"
          ]
        }
      ]
    },
    {
      "cell_type": "markdown",
      "source": [
        "question **9**"
      ],
      "metadata": {
        "id": "UskfZ_u6JrMk"
      }
    },
    {
      "cell_type": "code",
      "source": [
        "# Take the user’s first name and last name and print the full name.\n",
        "first_name=input(\"Enter you fist name:\")\n",
        "last_name=input(\"Enter you last name:\")\n",
        "full_name=first_name + \" \" last_name\n",
        "print(\"Your full name is:\",full_name)"
      ],
      "metadata": {
        "id": "EWKPY0vNJugh",
        "colab": {
          "base_uri": "https://localhost:8080/"
        },
        "outputId": "58be51ea-969c-4c8f-f899-7a4189a6dcc8"
      },
      "execution_count": null,
      "outputs": [
        {
          "output_type": "stream",
          "name": "stdout",
          "text": [
            "Enter you fist name:haseeb\n",
            "Enter you last name:gul\n",
            "Your full name is: haseeb gul\n"
          ]
        }
      ]
    },
    {
      "cell_type": "markdown",
      "source": [
        "QUESTION **10**"
      ],
      "metadata": {
        "id": "1JRC_UcrbQx-"
      }
    },
    {
      "cell_type": "code",
      "source": [
        "# Take the user’s age and print how old they will be after 5 years.\n",
        "age=int(input(\"Enter your age:\"))\n",
        "age_after_5_years=age+5\n",
        "print(f\"you will be {age_after_5_years} year old after 5 years.\")"
      ],
      "metadata": {
        "colab": {
          "base_uri": "https://localhost:8080/"
        },
        "id": "x8P0fux9bTVt",
        "outputId": "dd2e78bd-bd82-489c-f6fa-8b5caca6d228"
      },
      "execution_count": null,
      "outputs": [
        {
          "output_type": "stream",
          "name": "stdout",
          "text": [
            "Enter your age:16\n",
            "you will be 21 year old after 5 years.\n"
          ]
        }
      ]
    },
    {
      "cell_type": "markdown",
      "source": [
        "QUESTION **11**"
      ],
      "metadata": {
        "id": "jBVfGVVleRb9"
      }
    },
    {
      "cell_type": "code",
      "source": [
        "# Ask the user for two numbers and print their product.\n",
        "num1=float(input(\"Enter your first number:\"))\n",
        "num2=float(input(\"Enter your second number:\"))\n",
        "product=num1*num2\n",
        "print(\"The product of two number is: \",product)"
      ],
      "metadata": {
        "id": "l8Ew8EPYgHar",
        "colab": {
          "base_uri": "https://localhost:8080/"
        },
        "outputId": "b03e3a36-e14e-4949-98de-3d98fc0ddd44"
      },
      "execution_count": null,
      "outputs": [
        {
          "output_type": "stream",
          "name": "stdout",
          "text": [
            "Enter your first number:2\n",
            "Enter your second number:3\n",
            "The product of two number is:  6.0\n"
          ]
        }
      ]
    },
    {
      "cell_type": "markdown",
      "source": [
        "QUESSTION **12**"
      ],
      "metadata": {
        "id": "yWHNs7NMlx8u"
      }
    },
    {
      "cell_type": "code",
      "source": [
        "# 13.Take a name and a hobby from the user and print a sentence.\n",
        "name=input(\"Enter your name :\")\n",
        "hobby=input(\"Enter your hobby:\")\n",
        "# print the sentence\n",
        "print(f\"{name} likes {hobby}.\")"
      ],
      "metadata": {
        "colab": {
          "base_uri": "https://localhost:8080/"
        },
        "id": "xTlMKlsGl4Ey",
        "outputId": "4f8c7751-6212-4152-dc35-4c01d4c97e1d"
      },
      "execution_count": null,
      "outputs": [
        {
          "output_type": "stream",
          "name": "stdout",
          "text": [
            "Enter your name :Haseeb\n",
            "Enter your hobby:Cricket\n",
            "Haseeb likes Cricket.\n"
          ]
        }
      ]
    }
  ]
}