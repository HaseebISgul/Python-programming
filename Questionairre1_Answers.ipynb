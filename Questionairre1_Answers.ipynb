{
  "nbformat": 4,
  "nbformat_minor": 0,
  "metadata": {
    "colab": {
      "provenance": []
    },
    "kernelspec": {
      "name": "python3",
      "display_name": "Python 3"
    },
    "language_info": {
      "name": "python"
    }
  },
  "cells": [
    {
      "cell_type": "markdown",
      "source": [
        "QUESTION 1"
      ],
      "metadata": {
        "id": "b9zIkqJFkvGh"
      }
    },
    {
      "cell_type": "code",
      "source": [
        "print('hello, world !')"
      ],
      "metadata": {
        "colab": {
          "base_uri": "https://localhost:8080/"
        },
        "id": "ZDRM6SIKk4jP",
        "outputId": "58e3d20e-0277-487a-e4b7-f9d299aa5d60"
      },
      "execution_count": null,
      "outputs": [
        {
          "output_type": "stream",
          "name": "stdout",
          "text": [
            "hello, world !\n"
          ]
        }
      ]
    },
    {
      "cell_type": "markdown",
      "source": [
        "QUESTION 2"
      ],
      "metadata": {
        "id": "nf_B8_xNlMoI"
      }
    },
    {
      "cell_type": "code",
      "source": [
        "print('name:haseeb,age:17,city:nowshehra')"
      ],
      "metadata": {
        "colab": {
          "base_uri": "https://localhost:8080/"
        },
        "id": "K4isS8nqlOTG",
        "outputId": "e8ce5ae0-1c00-4a35-c635-26cf479342f4"
      },
      "execution_count": null,
      "outputs": [
        {
          "output_type": "stream",
          "name": "stdout",
          "text": [
            "name:haseeb,age:17,city:nowshehra\n"
          ]
        }
      ]
    },
    {
      "cell_type": "markdown",
      "source": [
        "QUESTION 3"
      ],
      "metadata": {
        "id": "73F2v7qCoaWS"
      }
    },
    {
      "cell_type": "code",
      "source": [
        "print('welcome to python!','\\n')\n",
        "print(\"let's learn coding.\")\n"
      ],
      "metadata": {
        "colab": {
          "base_uri": "https://localhost:8080/"
        },
        "id": "d3c46NnOof4I",
        "outputId": "418674ae-921b-43a9-c9ee-d5b17ef92f3c"
      },
      "execution_count": null,
      "outputs": [
        {
          "output_type": "stream",
          "name": "stdout",
          "text": [
            "welcome to python! \n",
            "\n",
            "let's learn coding.\n"
          ]
        }
      ]
    },
    {
      "cell_type": "markdown",
      "source": [
        "QUESTION 4"
      ],
      "metadata": {
        "id": "fmp9yPY4oZ1b"
      }
    },
    {
      "cell_type": "code",
      "source": [
        "print('He said, \"python is amazing!\"')"
      ],
      "metadata": {
        "colab": {
          "base_uri": "https://localhost:8080/"
        },
        "id": "-qhuzpHiofV8",
        "outputId": "706d8e28-cec4-41b2-d067-27e104587ba3"
      },
      "execution_count": null,
      "outputs": [
        {
          "output_type": "stream",
          "name": "stdout",
          "text": [
            "He said, \"python is amazing!\"\n"
          ]
        }
      ]
    },
    {
      "cell_type": "markdown",
      "source": [
        "QUESTION 5"
      ],
      "metadata": {
        "id": "UBaBvU8HrGUv"
      }
    },
    {
      "cell_type": "code",
      "source": [
        "print('*')\n",
        "print('**')\n",
        "print('***')\n",
        "print('****')\n",
        "print('*****')"
      ],
      "metadata": {
        "colab": {
          "base_uri": "https://localhost:8080/"
        },
        "id": "y6PBXXShrLRn",
        "outputId": "b5d7c466-a9a3-4536-991d-83f9990a4f4f"
      },
      "execution_count": null,
      "outputs": [
        {
          "output_type": "stream",
          "name": "stdout",
          "text": [
            "*\n",
            "**\n",
            "***\n",
            "****\n",
            "*****\n"
          ]
        }
      ]
    },
    {
      "cell_type": "markdown",
      "source": [
        "QUESTION 6"
      ],
      "metadata": {
        "id": "YlVzO9Ctr7VX"
      }
    },
    {
      "cell_type": "code",
      "source": [
        "print('Hello, my name is haseeb and i am 16 years old.')"
      ],
      "metadata": {
        "colab": {
          "base_uri": "https://localhost:8080/"
        },
        "id": "1iTkw04dr9V4",
        "outputId": "35ec3807-9245-48be-a72c-2b81b34082ff"
      },
      "execution_count": null,
      "outputs": [
        {
          "output_type": "stream",
          "name": "stdout",
          "text": [
            "Hello, my name is haseeb and i am 16 years old.\n"
          ]
        }
      ]
    },
    {
      "cell_type": "markdown",
      "source": [
        "QUESTION 7"
      ],
      "metadata": {
        "id": "93j5VZo0sbtD"
      }
    },
    {
      "cell_type": "code",
      "source": [
        "print('5*1=5')\n",
        "print('5*2=10')\n",
        "print('5*3=15')\n",
        "print('5*4=20')\n",
        "print('5*5=25')\n",
        "print('5*6=30')\n",
        "print('5*7=35')\n",
        "print('5*8=40')\n",
        "print('5*9=45')\n",
        "print('5*10=50')\n",
        "\n"
      ],
      "metadata": {
        "colab": {
          "base_uri": "https://localhost:8080/"
        },
        "id": "9oVqsZ2asdbR",
        "outputId": "9646d27f-cbb5-4880-bd40-a02c12042c95"
      },
      "execution_count": null,
      "outputs": [
        {
          "output_type": "stream",
          "name": "stdout",
          "text": [
            "5*1=5\n",
            "5*2=10\n",
            "5*3=15\n",
            "5*4=20\n",
            "5*5=25\n",
            "5*6=30\n",
            "5*7=35\n",
            "5*8=40\n",
            "5*9=45\n",
            "5*10=50\n"
          ]
        }
      ]
    },
    {
      "cell_type": "markdown",
      "source": [
        "QUESTION 8"
      ],
      "metadata": {
        "id": "R4B5vbVJt9Xd"
      }
    },
    {
      "cell_type": "code",
      "source": [
        "print('Apple''      ''Banana''     ''Cherry')"
      ],
      "metadata": {
        "colab": {
          "base_uri": "https://localhost:8080/"
        },
        "id": "AEc_FgZWt_nv",
        "outputId": "d78d7a2e-fc2c-43be-fd14-ef3b3517ba47"
      },
      "execution_count": null,
      "outputs": [
        {
          "output_type": "stream",
          "name": "stdout",
          "text": [
            "Apple      Banana     Cherry\n"
          ]
        }
      ]
    },
    {
      "cell_type": "markdown",
      "source": [
        "QUESTION 9"
      ],
      "metadata": {
        "id": "JWz-ycuiu1R1"
      }
    },
    {
      "cell_type": "code",
      "source": [
        "print(\"5 + 7=\",'12')\n"
      ],
      "metadata": {
        "colab": {
          "base_uri": "https://localhost:8080/"
        },
        "id": "RKjlYJOOu3lk",
        "outputId": "877b2244-0282-491d-f2d9-8599d0d39d32"
      },
      "execution_count": null,
      "outputs": [
        {
          "output_type": "stream",
          "name": "stdout",
          "text": [
            "5 + 7= 12\n"
          ]
        }
      ]
    },
    {
      "cell_type": "markdown",
      "source": [
        "QUESTION 10"
      ],
      "metadata": {
        "id": "uszHR_3qv029"
      }
    },
    {
      "cell_type": "code",
      "source": [
        "print('item name'':' \"car\")\n",
        "print('Quantity'':' \"2\")\n",
        "print('price'':' \"250$\")\n",
        "print('Total'':' \"500$\")"
      ],
      "metadata": {
        "colab": {
          "base_uri": "https://localhost:8080/"
        },
        "id": "OiLKfW7Zv3KT",
        "outputId": "194fab05-f237-4b04-faef-07406c159c82"
      },
      "execution_count": null,
      "outputs": [
        {
          "output_type": "stream",
          "name": "stdout",
          "text": [
            "item name:car\n",
            "Quantity:2\n",
            "price:250$\n",
            "Total:500$\n"
          ]
        }
      ]
    }
  ]
}