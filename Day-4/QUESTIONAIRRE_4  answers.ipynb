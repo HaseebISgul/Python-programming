{
  "cells": [
    {
      "cell_type": "markdown",
      "metadata": {
        "id": "kD7cbnKywIBf"
      },
      "source": [
        "QUESTION **1**"
      ]
    },
    {
      "cell_type": "code",
      "execution_count": null,
      "metadata": {
        "colab": {
          "base_uri": "https://localhost:8080/"
        },
        "id": "I7Vr6g_TwlAk",
        "outputId": "82d9b8db-182e-4b79-a099-0344e901c053"
      },
      "outputs": [
        {
          "name": "stdout",
          "output_type": "stream",
          "text": [
            "15\n"
          ]
        }
      ],
      "source": [
        "# Convert a string \"10\" to an integer,\n",
        "int(\"10\")\n",
        "num=int(\"10\")\n",
        "# then add 5\n",
        "result=num+5\n",
        "print(result)"
      ]
    },
    {
      "cell_type": "markdown",
      "metadata": {
        "id": "NE0Xxd6Cw5Fa"
      },
      "source": [
        "QUESTION **2**"
      ]
    },
    {
      "cell_type": "code",
      "execution_count": null,
      "metadata": {
        "colab": {
          "base_uri": "https://localhost:8080/"
        },
        "id": "4hanPF12w7cT",
        "outputId": "4bec6507-c23c-469f-ee9c-f0f7b745ee68"
      },
      "outputs": [
        {
          "name": "stdout",
          "output_type": "stream",
          "text": [
            "7.9\n"
          ]
        }
      ],
      "source": [
        "#Take a float number (like 7.9) as a string and convert it to a float.\n",
        "num=float(\"7.9\")\n",
        "print(num)"
      ]
    },
    {
      "cell_type": "markdown",
      "metadata": {
        "id": "g3SH4FNfx-ju"
      },
      "source": [
        "QUESTION **3**"
      ]
    },
    {
      "cell_type": "code",
      "execution_count": null,
      "metadata": {
        "colab": {
          "base_uri": "https://localhost:8080/"
        },
        "id": "Dbbmjeq7yAql",
        "outputId": "e5eb24e0-dd10-4598-b6d9-339a1d57a721"
      },
      "outputs": [
        {
          "name": "stdout",
          "output_type": "stream",
          "text": [
            "3\n"
          ]
        }
      ],
      "source": [
        "# Convert a float 3.14 to an integer and print the result.\n",
        "num=int(3.14)\n",
        "result=num\n",
        "print(result)"
      ]
    },
    {
      "cell_type": "markdown",
      "metadata": {
        "id": "XDslzjtE4MAl"
      },
      "source": [
        "QUESTION **5**"
      ]
    },
    {
      "cell_type": "code",
      "execution_count": null,
      "metadata": {
        "colab": {
          "base_uri": "https://localhost:8080/"
        },
        "id": "hzVzbjrO4Oi_",
        "outputId": "5fae1eb7-fac5-40f2-fc4a-f17f382c68cf"
      },
      "outputs": [
        {
          "name": "stdout",
          "output_type": "stream",
          "text": [
            "True\n"
          ]
        }
      ],
      "source": [
        "# Convert an integer 1 to a boolean and print the result.\n",
        "num = 1\n",
        "bool_num= bool(num)\n",
        "print(bool_num)"
      ]
    },
    {
      "cell_type": "markdown",
      "metadata": {
        "id": "2PU1kOUT4jE2"
      },
      "source": [
        "QUESTION **6**"
      ]
    },
    {
      "cell_type": "code",
      "source": [
        "# Convert the string \"False\" to a boolean. What happens?\n",
        "value = \"false\"\n",
        "bool_value = bool(value)\n",
        "print(bool_value)"
      ],
      "metadata": {
        "colab": {
          "base_uri": "https://localhost:8080/"
        },
        "id": "6x1CK95Eco0d",
        "outputId": "9a0871c9-72ed-4a0d-ae90-f5cd6407e6ac"
      },
      "execution_count": 4,
      "outputs": [
        {
          "output_type": "stream",
          "name": "stdout",
          "text": [
            "True\n"
          ]
        }
      ]
    },
    {
      "cell_type": "code",
      "execution_count": null,
      "metadata": {
        "id": "79ydfIcbxmay"
      },
      "outputs": [],
      "source": []
    },
    {
      "cell_type": "markdown",
      "metadata": {
        "id": "Koj1UZNcyQaW"
      },
      "source": [
        "QUESTION **7**"
      ]
    },
    {
      "cell_type": "code",
      "execution_count": null,
      "metadata": {
        "colab": {
          "base_uri": "https://localhost:8080/"
        },
        "id": "_DG3uGDYyS6i",
        "outputId": "34106ba5-775b-4145-f5af-56ccf6c68d5f"
      },
      "outputs": [
        {
          "name": "stdout",
          "output_type": "stream",
          "text": [
            "Enter your number:5\n",
            "Result: 10\n"
          ]
        }
      ],
      "source": [
        "# Take a number from the user as a string, convert it to an integer, and multiply it by\n",
        "2\n",
        "user_input=input(\"Enter your number:\")\n",
        "num=int(user_input)\n",
        "result = num * 2\n",
        "print(\"Result:\",result)"
      ]
    },
    {
      "cell_type": "markdown",
      "metadata": {
        "id": "vjmZPaPdRdrb"
      },
      "source": [
        "QUESTION **8**"
      ]
    },
    {
      "cell_type": "code",
      "execution_count": null,
      "metadata": {
        "colab": {
          "base_uri": "https://localhost:8080/"
        },
        "id": "teoifdBoRg1c",
        "outputId": "98b93ef2-ca8d-4710-93ee-9bea85599c73"
      },
      "outputs": [
        {
          "name": "stdout",
          "output_type": "stream",
          "text": [
            "Enter a floating-point number: 4.4\n",
            "Original (float): 4.4\n",
            "Converted (int): 4\n"
          ]
        }
      ],
      "source": [
        "user_input = input(\"Enter a floating-point number: \")  # Input is a string\n",
        "float_num = float(user_input)                          # Convert to float\n",
        "int_num = int(float_num)                               # Convert float to int (truncates decimal)\n",
        "print(\"Original (float):\", float_num)\n",
        "print(\"Converted (int):\", int_num)"
      ]
    },
    {
      "cell_type": "markdown",
      "metadata": {
        "id": "CcgOSPeDSW2l"
      },
      "source": [
        "QUESTION **9**"
      ]
    },
    {
      "cell_type": "code",
      "execution_count": null,
      "metadata": {
        "colab": {
          "background_save": true,
          "base_uri": "https://localhost:8080/"
        },
        "id": "4NJStanhSaXn",
        "outputId": "e43cd3be-0383-499a-b711-0dfc36e2a689"
      },
      "outputs": [
        {
          "name": "stdout",
          "output_type": "stream",
          "text": [
            "23\n",
            "<class 'str'>\n"
          ]
        }
      ],
      "source": [
        "#  Convert a number to a string and check its type using type().\n",
        "num = 23\n",
        "str_num = str(num)\n",
        "print(str_num)\n",
        "print(type(str_num))"
      ]
    },
    {
      "cell_type": "markdown",
      "source": [
        "QUESTION **11**"
      ],
      "metadata": {
        "id": "9RIKx6VmZwGB"
      }
    },
    {
      "cell_type": "code",
      "source": [
        "#  Take two numbers from the user and add them as integers (not strings).\n",
        "num1 = input(\"Enter your first number: \")\n",
        "num2 = input(\"Enter your second number: \")\n",
        "result = int(num1) + int(num2)\n",
        "print(\"Result:\", result)"
      ],
      "metadata": {
        "colab": {
          "base_uri": "https://localhost:8080/"
        },
        "id": "UUVtO1jtZyWO",
        "outputId": "aea0a345-9973-4dac-b5d2-35769e402281"
      },
      "execution_count": null,
      "outputs": [
        {
          "output_type": "stream",
          "name": "stdout",
          "text": [
            "Enter your first number: 10\n",
            "Enter your second number: 20\n",
            "Result: 30\n"
          ]
        }
      ]
    },
    {
      "cell_type": "markdown",
      "source": [
        "QUESTION **12**"
      ],
      "metadata": {
        "id": "gQ8fWfxwaNIg"
      }
    },
    {
      "cell_type": "code",
      "source": [
        "#  12. Take a string input like \"25.5\" and convert it into both float and int.\n",
        "input_str = input(\"Enter a number:\")\n",
        "# convert to float\n",
        "float_num = float(input_str)\n",
        "int_num = int(float_num)\n",
        "print(\"float value:\",float_num)\n",
        "print(\"int value:\",int_num)"
      ],
      "metadata": {
        "id": "cfOqwes8aQbI",
        "colab": {
          "base_uri": "https://localhost:8080/"
        },
        "outputId": "b8d6e56d-4c5e-4cd1-970f-373ba4068a0e"
      },
      "execution_count": 3,
      "outputs": [
        {
          "output_type": "stream",
          "name": "stdout",
          "text": [
            "Enter a number:25.5\n",
            "float value: 25.5\n",
            "int value: 25\n"
          ]
        }
      ]
    }
  ],
  "metadata": {
    "colab": {
      "provenance": []
    },
    "kernelspec": {
      "display_name": "Python 3",
      "name": "python3"
    },
    "language_info": {
      "name": "python"
    }
  },
  "nbformat": 4,
  "nbformat_minor": 0
}