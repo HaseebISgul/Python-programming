{
  "nbformat": 4,
  "nbformat_minor": 0,
  "metadata": {
    "colab": {
      "provenance": []
    },
    "kernelspec": {
      "name": "python3",
      "display_name": "Python 3"
    },
    "language_info": {
      "name": "python"
    }
  },
  "cells": [
    {
      "cell_type": "markdown",
      "source": [
        "QUESTION **1**"
      ],
      "metadata": {
        "id": "nA_YF9DPDCSe"
      }
    },
    {
      "cell_type": "code",
      "source": [
        "# Print a string literal that says “Learning Python is fun!”\n",
        "print(\"Learning Python is fun!\")"
      ],
      "metadata": {
        "colab": {
          "base_uri": "https://localhost:8080/"
        },
        "id": "T1yG_alqDE_2",
        "outputId": "eb42a442-9c85-41d1-d2c1-3dc58ef1357f"
      },
      "execution_count": null,
      "outputs": [
        {
          "output_type": "stream",
          "name": "stdout",
          "text": [
            "Learning Python is fun!\n"
          ]
        }
      ]
    },
    {
      "cell_type": "markdown",
      "source": [
        "QUESTION **2**"
      ],
      "metadata": {
        "id": "U1S4Yu4NDWEN"
      }
    },
    {
      "cell_type": "code",
      "source": [
        "# Create and print an integer literal and a float literal.\n",
        "integer_literal = 10\n",
        "float_literal = 3.14\n",
        "print(integer_literal)\n",
        "print(float_literal)"
      ],
      "metadata": {
        "colab": {
          "base_uri": "https://localhost:8080/"
        },
        "id": "_g3R689DDZIb",
        "outputId": "4c081b7e-16d7-479e-d044-e520e1561d65"
      },
      "execution_count": null,
      "outputs": [
        {
          "output_type": "stream",
          "name": "stdout",
          "text": [
            "10\n",
            "3.14\n"
          ]
        }
      ]
    },
    {
      "cell_type": "markdown",
      "source": [
        "QUESTION **3**"
      ],
      "metadata": {
        "id": "_UAxU22XDkaA"
      }
    },
    {
      "cell_type": "code",
      "source": [
        "# Create a string literal using single quotes and another using double quotes.\n",
        "single_quote_string = 'This is a string in single quotes.'\n",
        "double_quote_string = \"This is a string in double quotes.\"\n",
        "print(single_quote_string)\n",
        "print(double_quote_string)\n"
      ],
      "metadata": {
        "colab": {
          "base_uri": "https://localhost:8080/"
        },
        "id": "qMcEAG9sDmM-",
        "outputId": "6185dff5-a624-47d5-e787-9490751892dd"
      },
      "execution_count": null,
      "outputs": [
        {
          "output_type": "stream",
          "name": "stdout",
          "text": [
            "This is a string in single quotes.\n",
            "This is a string in double quotes.\n"
          ]
        }
      ]
    },
    {
      "cell_type": "markdown",
      "source": [
        "QUESTION **4**"
      ],
      "metadata": {
        "id": "cYp1Gf5GEHPh"
      }
    },
    {
      "cell_type": "code",
      "source": [
        "# Create a boolean literal and print it.\n",
        "boolean_literal = True\n",
        "print(boolean_literal)"
      ],
      "metadata": {
        "colab": {
          "base_uri": "https://localhost:8080/"
        },
        "id": "rqXL_oFhEIzx",
        "outputId": "a162dedb-76dc-47b8-93bb-94cdbe22d6f3"
      },
      "execution_count": null,
      "outputs": [
        {
          "output_type": "stream",
          "name": "stdout",
          "text": [
            "True\n"
          ]
        }
      ]
    },
    {
      "cell_type": "markdown",
      "source": [
        "QUESTION **5**"
      ],
      "metadata": {
        "id": "b9vJDo-_EQ_m"
      }
    },
    {
      "cell_type": "code",
      "source": [
        "# Create a variable with the value None and print it.\n",
        "variable = None\n",
        "print(variable)\n"
      ],
      "metadata": {
        "colab": {
          "base_uri": "https://localhost:8080/"
        },
        "id": "j-yZbAcPESwr",
        "outputId": "95f02a4d-8fb7-4428-dfd1-d7d3a33e9b6e"
      },
      "execution_count": null,
      "outputs": [
        {
          "output_type": "stream",
          "name": "stdout",
          "text": [
            "None\n"
          ]
        }
      ]
    },
    {
      "cell_type": "markdown",
      "source": [
        "QUESTION **6**"
      ],
      "metadata": {
        "id": "8Vm-v2vNEay1"
      }
    },
    {
      "cell_type": "code",
      "source": [
        "print(type(\"Hello\"))  # str\n",
        "print(type(10))       # int\n",
        "print(type(3.5))      # float\n",
        "print(type(True))     # bool\n",
        "print(type(None))     # nontype"
      ],
      "metadata": {
        "colab": {
          "base_uri": "https://localhost:8080/"
        },
        "id": "8U4Lm8FXEcdk",
        "outputId": "766ed943-e4b0-4416-f324-a1a20494cb83"
      },
      "execution_count": null,
      "outputs": [
        {
          "output_type": "stream",
          "name": "stdout",
          "text": [
            "<class 'str'>\n",
            "<class 'int'>\n",
            "<class 'float'>\n",
            "<class 'bool'>\n",
            "<class 'NoneType'>\n"
          ]
        }
      ]
    },
    {
      "cell_type": "markdown",
      "source": [
        "QUESTION **7**"
      ],
      "metadata": {
        "id": "5l_wFq8FE2UP"
      }
    },
    {
      "cell_type": "code",
      "source": [
        "print(\"Python’s simplicity is powerful.\")"
      ],
      "metadata": {
        "colab": {
          "base_uri": "https://localhost:8080/"
        },
        "id": "guiDNReKE4AF",
        "outputId": "b07f5250-9a89-4269-a2ee-7f56715c5fac"
      },
      "execution_count": null,
      "outputs": [
        {
          "output_type": "stream",
          "name": "stdout",
          "text": [
            "Python’s simplicity is powerful.\n"
          ]
        }
      ]
    },
    {
      "cell_type": "markdown",
      "source": [
        "QUESTION **8**"
      ],
      "metadata": {
        "id": "3dMYC5qtFNTX"
      }
    },
    {
      "cell_type": "code",
      "source": [
        "#  to join two string literals\n",
        "result = \"haseeb,\" + \"gul\"\n",
        "print(result)"
      ],
      "metadata": {
        "colab": {
          "base_uri": "https://localhost:8080/"
        },
        "id": "67FhgprPxyqf",
        "outputId": "2698b17c-3965-40eb-cd8d-6e79f2b2d657"
      },
      "execution_count": null,
      "outputs": [
        {
          "output_type": "stream",
          "name": "stdout",
          "text": [
            "haseeb,gul\n"
          ]
        }
      ]
    },
    {
      "cell_type": "markdown",
      "source": [
        "QUESTION **9**"
      ],
      "metadata": {
        "id": "VIl-ruZ2yY1-"
      }
    },
    {
      "cell_type": "code",
      "source": [
        "# A list of mixed literals:\n",
        "mixed_literals = [39,\"nowshehra\", True]\n",
        "print(mixed_literals)"
      ],
      "metadata": {
        "colab": {
          "base_uri": "https://localhost:8080/"
        },
        "id": "5FfoSvMEybS4",
        "outputId": "81d13d27-1720-4fcf-bfef-26b15a745a8c"
      },
      "execution_count": null,
      "outputs": [
        {
          "output_type": "stream",
          "name": "stdout",
          "text": [
            "[39, 'nowshehra', True]\n"
          ]
        }
      ]
    },
    {
      "cell_type": "markdown",
      "source": [
        "QUESTION **10**"
      ],
      "metadata": {
        "id": "1gS7mflTzcJc"
      }
    },
    {
      "cell_type": "code",
      "source": [
        "# Multi-line string :\n",
        "multi_line_string = '\"Ali eat something in the class\"'\n",
        "print(multi_line_string)"
      ],
      "metadata": {
        "colab": {
          "base_uri": "https://localhost:8080/"
        },
        "id": "UP-eopzhzfDf",
        "outputId": "cd6572f2-22bb-4060-ef88-55a332fba24d"
      },
      "execution_count": null,
      "outputs": [
        {
          "output_type": "stream",
          "name": "stdout",
          "text": [
            "\"Ali eat something in the class\"\n"
          ]
        }
      ]
    },
    {
      "cell_type": "markdown",
      "source": [
        "QUESTION **11**"
      ],
      "metadata": {
        "id": "Ff6ozfEE0Xi9"
      }
    },
    {
      "cell_type": "code",
      "source": [
        "print(None == 0)                # Because the None value is '0',\n",
        "print(None == False)            # and false is also equal to '0'."
      ],
      "metadata": {
        "colab": {
          "base_uri": "https://localhost:8080/"
        },
        "id": "rrEaALGr0Z4r",
        "outputId": "1dda8cec-2b92-4052-c637-c3773621e673"
      },
      "execution_count": null,
      "outputs": [
        {
          "output_type": "stream",
          "name": "stdout",
          "text": [
            "False\n",
            "False\n"
          ]
        }
      ]
    }
  ]
}